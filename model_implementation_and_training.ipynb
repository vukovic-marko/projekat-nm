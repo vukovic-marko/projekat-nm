{
  "nbformat": 4,
  "nbformat_minor": 0,
  "metadata": {
    "colab": {
      "name": "model_implementation_and_training.ipynb",
      "provenance": [],
      "collapsed_sections": [],
      "mount_file_id": "1mA5yQSgzldtfYXAunaPd_pLDnj-FldcY",
      "authorship_tag": "ABX9TyPtpidP+si3VAgZJCy2ZJ5Y",
      "include_colab_link": true
    },
    "kernelspec": {
      "name": "python3",
      "display_name": "Python 3"
    },
    "accelerator": "GPU"
  },
  "cells": [
    {
      "cell_type": "markdown",
      "metadata": {
        "id": "view-in-github",
        "colab_type": "text"
      },
      "source": [
        "<a href=\"https://colab.research.google.com/github/vukovic-marko/projekat-nm/blob/master/model_implementation_and_training.ipynb\" target=\"_parent\"><img src=\"https://colab.research.google.com/assets/colab-badge.svg\" alt=\"Open In Colab\"/></a>"
      ]
    },
    {
      "cell_type": "code",
      "metadata": {
        "id": "_kiV0lDSWRMk",
        "colab_type": "code",
        "colab": {}
      },
      "source": [
        "import re\n",
        "import pandas as pd\n",
        "import numpy as np\n",
        "import nltk\n",
        "from nltk.stem import WordNetLemmatizer\n",
        "from nltk import word_tokenize\n",
        "from nltk import sent_tokenize\n",
        "from nltk.corpus import stopwords\n",
        "import string\n",
        "from keras.preprocessing.text import Tokenizer\n",
        "from keras.preprocessing.sequence import pad_sequences\n",
        "from keras.layers import Layer, Embedding, Input, GRU, Bidirectional, TimeDistributed, Dense, Dropout\n",
        "from keras import Model\n",
        "from keras import initializers\n",
        "import keras.backend as K\n",
        "import matplotlib.pyplot as plt"
      ],
      "execution_count": null,
      "outputs": []
    },
    {
      "cell_type": "code",
      "metadata": {
        "id": "s6vuM6JzWr0M",
        "colab_type": "code",
        "colab": {
          "base_uri": "https://localhost:8080/",
          "height": 146
        },
        "outputId": "a183661e-6405-4d70-932a-4a6eed27279b"
      },
      "source": [
        "nltk.download('wordnet')\n",
        "nltk.download('punkt')\n",
        "nltk.download('stopwords')"
      ],
      "execution_count": null,
      "outputs": [
        {
          "output_type": "stream",
          "text": [
            "[nltk_data] Downloading package wordnet to /root/nltk_data...\n",
            "[nltk_data]   Package wordnet is already up-to-date!\n",
            "[nltk_data] Downloading package punkt to /root/nltk_data...\n",
            "[nltk_data]   Package punkt is already up-to-date!\n",
            "[nltk_data] Downloading package stopwords to /root/nltk_data...\n",
            "[nltk_data]   Package stopwords is already up-to-date!\n"
          ],
          "name": "stdout"
        },
        {
          "output_type": "execute_result",
          "data": {
            "text/plain": [
              "True"
            ]
          },
          "metadata": {
            "tags": []
          },
          "execution_count": 2
        }
      ]
    },
    {
      "cell_type": "code",
      "metadata": {
        "id": "T5kYnsBUBacV",
        "colab_type": "code",
        "colab": {}
      },
      "source": [
        "pickled_sampled_dataframe_path = '/content/drive/My Drive/df.pkl'\n",
        "glove_path = '/content/drive/My Drive/glove.6B.100d.txt'"
      ],
      "execution_count": null,
      "outputs": []
    },
    {
      "cell_type": "code",
      "metadata": {
        "id": "z583c7lCWYLG",
        "colab_type": "code",
        "colab": {}
      },
      "source": [
        "df = pd.read_pickle(pickled_sampled_dataframe_path)"
      ],
      "execution_count": null,
      "outputs": []
    },
    {
      "cell_type": "code",
      "metadata": {
        "id": "7Lqgtt44W-7V",
        "colab_type": "code",
        "colab": {}
      },
      "source": [
        "def convertInputSentences(review, stopWords):\n",
        "  lemmatizer = WordNetLemmatizer()\n",
        "\n",
        "  retString = ''\n",
        "  \n",
        "  sentence_tokens = sent_tokenize(review)\n",
        "\n",
        "  for sentence in sentence_tokens:\n",
        "    word_tokens = word_tokenize(sentence)\n",
        "    sentence_new = [(idx, lemmatizer.lemmatize(word.lower())) for idx, word in enumerate(word_tokens) if word.lower() not in stopWords and word.isalnum()]\n",
        "\n",
        "    tempList = [word[1] for word in sentence_new]\n",
        "    retString = retString + ' '.join(tempList) + ' . '\n",
        "  \n",
        "  return retString"
      ],
      "execution_count": null,
      "outputs": []
    },
    {
      "cell_type": "code",
      "metadata": {
        "id": "CGxDRpHSYPn-",
        "colab_type": "code",
        "colab": {}
      },
      "source": [
        "df_processed = df.copy()\n",
        "\n",
        "stopWords = stopwords.words('english')"
      ],
      "execution_count": null,
      "outputs": []
    },
    {
      "cell_type": "code",
      "metadata": {
        "id": "CpwsHFDueUb9",
        "colab_type": "code",
        "colab": {}
      },
      "source": [
        "df_processed['sentences'] = df_processed['sentences'].map(lambda x: convertInputSentences(x, stopWords))"
      ],
      "execution_count": null,
      "outputs": []
    },
    {
      "cell_type": "code",
      "metadata": {
        "id": "zsQjJykIYv0U",
        "colab_type": "code",
        "colab": {}
      },
      "source": [
        "#optimizovati parametre\n",
        "\n",
        "MAX_SENTENCE_NUM = 30 #148 #9 \n",
        "MAX_WORD_NUM = 20 #10 #40 \n",
        "MAX_FEATURES = 200000\n",
        "EMBED_SIZE = 100"
      ],
      "execution_count": null,
      "outputs": []
    },
    {
      "cell_type": "code",
      "metadata": {
        "id": "Hhd_1tgiY-Uk",
        "colab_type": "code",
        "colab": {
          "base_uri": "https://localhost:8080/",
          "height": 35
        },
        "outputId": "7be58109-ccc4-490b-cc55-f71f85bfc148"
      },
      "source": [
        "texts = []\n",
        "for i in range(len(df_processed)):\n",
        "  s = df_processed['sentences'].iloc[i]\n",
        "  s = ' '.join([word.strip(string.punctuation) for word in s.split() if word.strip(string.punctuation) is not \"\"])\n",
        "  texts.append(s)\n",
        "\n",
        "tokenizer = Tokenizer(num_words=MAX_FEATURES, lower=True, oov_token=None)\n",
        "tokenizer.fit_on_texts(texts)\n",
        "word_index = tokenizer.word_index\n",
        "\n",
        "print('Number of tokens: ' + str(len(word_index)))"
      ],
      "execution_count": null,
      "outputs": [
        {
          "output_type": "stream",
          "text": [
            "Number of tokens: 102523\n"
          ],
          "name": "stdout"
        }
      ]
    },
    {
      "cell_type": "code",
      "metadata": {
        "id": "GQuD4BoOZvNq",
        "colab_type": "code",
        "colab": {
          "base_uri": "https://localhost:8080/",
          "height": 72
        },
        "outputId": "85c97a0e-1ec5-4ee3-9c49-0da85b442466"
      },
      "source": [
        "embeddings_index = {}\n",
        "with open(glove_path, encoding='utf8') as file:\n",
        "  for line in file:\n",
        "    values = line.split()\n",
        "    word = values[0]\n",
        "    coefs = np.asarray(values[1:], dtype='float32')\n",
        "    embeddings_index[word] = coefs\n",
        "\n",
        "min_wordCount = 2\n",
        "absent_words = 0\n",
        "small_words = 0\n",
        "\n",
        "embedding_matrix = np.zeros((len(word_index) + 1, EMBED_SIZE))\n",
        "word_counts = tokenizer.word_counts\n",
        "for word, i in word_index.items():\n",
        "  if word_counts[word] > min_wordCount:\n",
        "    embedding_vector = embeddings_index.get(word)\n",
        "    if embedding_vector is not None:\n",
        "      embedding_matrix[i] = embedding_vector\n",
        "    else:\n",
        "      absent_words += 1\n",
        "  else:\n",
        "    small_words += 1\n",
        "\n",
        "print('Total absent words are', absent_words, 'which is', \"%0.2f\" % (absent_words * 100 / len(word_index)),\n",
        "      '% of total words')\n",
        "print('Words with '+str(min_wordCount)+' or less mentions', small_words, 'which is', \"%0.2f\" % (small_words * 100 / len(word_index)),\n",
        "      '% of total words')\n",
        "print(str(len(word_index)-small_words-absent_words) + ' words to proceed.')"
      ],
      "execution_count": null,
      "outputs": [
        {
          "output_type": "stream",
          "text": [
            "Total absent words are 8537 which is 8.33 % of total words\n",
            "Words with 2 or less mentions 49838 which is 48.61 % of total words\n",
            "44148 words to proceed.\n"
          ],
          "name": "stdout"
        }
      ]
    },
    {
      "cell_type": "code",
      "metadata": {
        "id": "8UlWyOanayie",
        "colab_type": "code",
        "colab": {}
      },
      "source": [
        "def split_df(dataframe, column_name, training_split, validation_split, test_split):\n",
        "  if training_split + validation_split + test_split != 1.0:\n",
        "    raise ValueError('Split parameter sum should be 1.0')\n",
        "  \n",
        "  total = len(dataframe.index)\n",
        "\n",
        "  train = dataframe.reset_index().groupby(column_name).apply(lambda x: x.sample(frac=training_split)).reset_index(drop=True).set_index('index')\n",
        "  train = train.sample(frac=1)\n",
        "  temp_df = dataframe.drop(train.index)\n",
        "  validation = temp_df.reset_index().groupby(column_name).apply(lambda x: x.sample(frac=validation_split/(test_split+validation_split))).reset_index(drop=True).set_index('index')\n",
        "  validation = validation.sample(frac=1)\n",
        "  test = temp_df.drop(validation.index)\n",
        "  test = test.sample(frac=1)\n",
        "\n",
        "  print('Total: ', len(dataframe))\n",
        "  print('Training: ', len(train), ', Percentage: ', len(train)/len(dataframe))\n",
        "  print('Validation: ', len(validation), ', Percentage: ', len(validation)/len(dataframe))\n",
        "  print('Test:', len(test), ', Percentage: ', len(test)/len(dataframe))\n",
        "\n",
        "  return train, validation, test"
      ],
      "execution_count": null,
      "outputs": []
    },
    {
      "cell_type": "code",
      "metadata": {
        "id": "rfutSRBZcCH5",
        "colab_type": "code",
        "colab": {
          "base_uri": "https://localhost:8080/",
          "height": 90
        },
        "outputId": "5c7ca4fe-a0a8-437e-e54a-4c44f4ff1c2f"
      },
      "source": [
        "train, validation, test = split_df(df_processed, 'is_spoiler',0.8,0.1,0.1)"
      ],
      "execution_count": null,
      "outputs": [
        {
          "output_type": "stream",
          "text": [
            "Total:  100000\n",
            "Training:  80000 , Percentage:  0.8\n",
            "Validation:  10000 , Percentage:  0.1\n",
            "Test: 10000 , Percentage:  0.1\n"
          ],
          "name": "stdout"
        }
      ]
    },
    {
      "cell_type": "code",
      "metadata": {
        "id": "bx7hy_7ZDCuq",
        "colab_type": "code",
        "colab": {}
      },
      "source": [
        "def prepare_dataset_for_training(data):\n",
        "  lista_svi = []\n",
        "  for review in data.sentences.values:\n",
        "    lista_review = []\n",
        "    for sentence in review.split('.')[:-1]:\n",
        "      lista = []\n",
        "      for word in sentence.split(' '):\n",
        "        if word != '':\n",
        "          lista.append(word_index[word]) \n",
        "      lista_review.append(lista)\n",
        "    lista_svi.append(lista_review)\n",
        "\n",
        "  padded_list = []\n",
        "  for sequence in lista_svi:\n",
        "    padded_list.append(pad_sequences(sequence, maxlen=MAX_WORD_NUM, padding='post'))\n",
        "\n",
        "  x = np.zeros((len(data), MAX_SENTENCE_NUM, MAX_WORD_NUM), dtype='int32')\n",
        "\n",
        "  for i in range(len(padded_list)):\n",
        "    for j in range(len(padded_list[i])):\n",
        "      if j < MAX_SENTENCE_NUM:\n",
        "        x[i,j] = np.array(padded_list[i][j])\n",
        "\n",
        "  y = np.zeros((len(data), 2), dtype='int32')\n",
        "  for i in range(len(data.is_spoiler)):\n",
        "    if data.is_spoiler.iloc[i]:\n",
        "      y[i] = np.array([0,1])\n",
        "    else:\n",
        "      y[i] = np.array([1,0])\n",
        "  \n",
        "  return x, y"
      ],
      "execution_count": null,
      "outputs": []
    },
    {
      "cell_type": "code",
      "metadata": {
        "id": "j-G5A5RuDqBM",
        "colab_type": "code",
        "colab": {}
      },
      "source": [
        "x_train, y_train = prepare_dataset_for_training(train)\n",
        "x_val, y_val = prepare_dataset_for_training(validation)\n",
        "x_test, y_test = prepare_dataset_for_training(test)"
      ],
      "execution_count": null,
      "outputs": []
    },
    {
      "cell_type": "code",
      "metadata": {
        "id": "Qcur4UxDcgAm",
        "colab_type": "code",
        "colab": {}
      },
      "source": [
        "class Attention(Layer):\n",
        "    def __init__(self,attention_dim=100,return_coefficients=False,**kwargs):\n",
        "        # Initializer \n",
        "        self.supports_masking = True\n",
        "        self.return_coefficients = return_coefficients\n",
        "        self.init = initializers.get('glorot_uniform') # initializes values with uniform distribution\n",
        "        self.attention_dim = attention_dim\n",
        "        super(Attention, self).__init__(**kwargs)\n",
        "\n",
        "    def build(self, input_shape):\n",
        "        # Builds all weights\n",
        "        # W = Weight matrix, b = bias vector, u = context vector\n",
        "        assert len(input_shape) == 3\n",
        "        self.W = K.variable(self.init((input_shape[-1], self.attention_dim)),name='W')\n",
        "        self.b = K.variable(self.init((self.attention_dim, )),name='b')\n",
        "        self.u = K.variable(self.init((self.attention_dim, 1)),name='u')\n",
        "        self._trainable_weights = [self.W, self.b, self.u]\n",
        "\n",
        "        super(Attention, self).build(input_shape)\n",
        "\n",
        "    def compute_mask(self, input, input_mask=None):\n",
        "        return None\n",
        "\n",
        "    def call(self, hit, mask=None):\n",
        "        # Here, the actual calculation is done\n",
        "        uit = K.bias_add(K.dot(hit, self.W),self.b)\n",
        "        uit = K.tanh(uit)\n",
        "        \n",
        "        ait = K.dot(uit, self.u)\n",
        "        ait = K.squeeze(ait, -1)\n",
        "        ait = K.exp(ait)\n",
        "        \n",
        "        if mask is not None:\n",
        "            ait *= K.cast(mask, K.floatx())\n",
        "\n",
        "        ait /= K.cast(K.sum(ait, axis=1, keepdims=True) + K.epsilon(), K.floatx())\n",
        "        ait = K.expand_dims(ait)\n",
        "        weighted_input = hit * ait\n",
        "        \n",
        "        if self.return_coefficients:\n",
        "            return [K.sum(weighted_input, axis=1), ait]\n",
        "        else:\n",
        "            return K.sum(weighted_input, axis=1)\n",
        "\n",
        "    def compute_output_shape(self, input_shape):\n",
        "        if self.return_coefficients:\n",
        "            return [(input_shape[0], input_shape[-1]), (input_shape[0], input_shape[-1], 1)]\n",
        "        else:\n",
        "            return input_shape[0], input_shape[-1]"
      ],
      "execution_count": null,
      "outputs": []
    },
    {
      "cell_type": "code",
      "metadata": {
        "id": "bxbxzy-fc0d-",
        "colab_type": "code",
        "colab": {
          "base_uri": "https://localhost:8080/",
          "height": 788
        },
        "outputId": "06c3889c-5bc6-48ff-e00e-44b152da952d"
      },
      "source": [
        "embedding_layer = Embedding(len(word_index) + 1,EMBED_SIZE,weights=[embedding_matrix], input_length=MAX_WORD_NUM, trainable=False,name='word_embedding')\n",
        "\n",
        "word_input = Input(shape=(MAX_WORD_NUM,), dtype='int32',name='word_input')\n",
        "word_sequences = embedding_layer(word_input)\n",
        "word_gru = Bidirectional(GRU(50, return_sequences=True),name='word_gru')(word_sequences)\n",
        "word_dense = Dense(100, activation='relu', name='word_dense')(word_gru) \n",
        "word_att,word_coeffs = Attention(attention_dim=EMBED_SIZE,return_coefficients=True,name='word_attention')(word_dense)\n",
        "wordEncoder = Model(inputs = word_input,outputs = word_att)\n",
        "\n",
        "sent_input = Input(shape=(MAX_SENTENCE_NUM,MAX_WORD_NUM), dtype='int32',name='sent_input')\n",
        "sent_encoder = TimeDistributed(wordEncoder,name='sent_linking')(sent_input)\n",
        "sent_gru = Bidirectional(GRU(50, return_sequences=True),name='sent_gru')(sent_encoder)\n",
        "sent_dense = Dense(100, activation='relu', name='sent_dense')(sent_gru) \n",
        "sent_att,sent_coeffs = Attention(EMBED_SIZE,return_coefficients=True,name='sent_attention')(sent_dense)\n",
        "sent_drop = Dropout(0.5,name='sent_dropout')(sent_att)\n",
        "preds = Dense(2, activation='softmax',name='output')(sent_drop)\n",
        "\n",
        "model = Model(sent_input, preds)\n",
        "model.compile(loss='categorical_crossentropy',optimizer='adam',metrics=['acc'])\n",
        "print(wordEncoder.summary())\n",
        "print(model.summary())"
      ],
      "execution_count": null,
      "outputs": [
        {
          "output_type": "stream",
          "text": [
            "Model: \"functional_1\"\n",
            "_________________________________________________________________\n",
            "Layer (type)                 Output Shape              Param #   \n",
            "=================================================================\n",
            "word_input (InputLayer)      [(None, 20)]              0         \n",
            "_________________________________________________________________\n",
            "word_embedding (Embedding)   (None, 20, 100)           10252400  \n",
            "_________________________________________________________________\n",
            "word_gru (Bidirectional)     (None, 20, 100)           45600     \n",
            "_________________________________________________________________\n",
            "word_dense (Dense)           (None, 20, 100)           10100     \n",
            "_________________________________________________________________\n",
            "word_attention (Attention)   [(None, 100), (None, 20,  10200     \n",
            "=================================================================\n",
            "Total params: 10,318,300\n",
            "Trainable params: 65,900\n",
            "Non-trainable params: 10,252,400\n",
            "_________________________________________________________________\n",
            "None\n",
            "Model: \"functional_3\"\n",
            "_________________________________________________________________\n",
            "Layer (type)                 Output Shape              Param #   \n",
            "=================================================================\n",
            "sent_input (InputLayer)      [(None, 30, 20)]          0         \n",
            "_________________________________________________________________\n",
            "sent_linking (TimeDistribute (None, 30, 100)           10318300  \n",
            "_________________________________________________________________\n",
            "sent_gru (Bidirectional)     (None, 30, 100)           45600     \n",
            "_________________________________________________________________\n",
            "sent_dense (Dense)           (None, 30, 100)           10100     \n",
            "_________________________________________________________________\n",
            "sent_attention (Attention)   [(None, 100), (None, 30,  10200     \n",
            "_________________________________________________________________\n",
            "sent_dropout (Dropout)       (None, 100)               0         \n",
            "_________________________________________________________________\n",
            "output (Dense)               (None, 2)                 202       \n",
            "=================================================================\n",
            "Total params: 10,384,402\n",
            "Trainable params: 132,002\n",
            "Non-trainable params: 10,252,400\n",
            "_________________________________________________________________\n",
            "None\n"
          ],
          "name": "stdout"
        }
      ]
    },
    {
      "cell_type": "code",
      "metadata": {
        "id": "rA_w_aMxc3yH",
        "colab_type": "code",
        "colab": {
          "base_uri": "https://localhost:8080/",
          "height": 384
        },
        "outputId": "8c61bbfd-fa2d-4f6b-b162-c01ab0e0f66e"
      },
      "source": [
        "history = model.fit(x_train, y_train, validation_data=(x_val, y_val), epochs=10, batch_size=32)"
      ],
      "execution_count": null,
      "outputs": [
        {
          "output_type": "stream",
          "text": [
            "Epoch 1/10\n",
            "2500/2500 [==============================] - 62s 25ms/step - loss: 0.5235 - acc: 0.7343 - val_loss: 0.4886 - val_acc: 0.7587\n",
            "Epoch 2/10\n",
            "2500/2500 [==============================] - 60s 24ms/step - loss: 0.4753 - acc: 0.7668 - val_loss: 0.4651 - val_acc: 0.7793\n",
            "Epoch 3/10\n",
            "2500/2500 [==============================] - 61s 24ms/step - loss: 0.4530 - acc: 0.7829 - val_loss: 0.4633 - val_acc: 0.7734\n",
            "Epoch 4/10\n",
            "2500/2500 [==============================] - 61s 24ms/step - loss: 0.4293 - acc: 0.7948 - val_loss: 0.4600 - val_acc: 0.7833\n",
            "Epoch 5/10\n",
            "2500/2500 [==============================] - 61s 24ms/step - loss: 0.4076 - acc: 0.8100 - val_loss: 0.4737 - val_acc: 0.7791\n",
            "Epoch 6/10\n",
            "2500/2500 [==============================] - 61s 24ms/step - loss: 0.3825 - acc: 0.8241 - val_loss: 0.4654 - val_acc: 0.7935\n",
            "Epoch 7/10\n",
            "2500/2500 [==============================] - 61s 24ms/step - loss: 0.3546 - acc: 0.8407 - val_loss: 0.4777 - val_acc: 0.7794\n",
            "Epoch 8/10\n",
            "2500/2500 [==============================] - 61s 24ms/step - loss: 0.3284 - acc: 0.8538 - val_loss: 0.5027 - val_acc: 0.7816\n",
            "Epoch 9/10\n",
            "2500/2500 [==============================] - 61s 24ms/step - loss: 0.3011 - acc: 0.8692 - val_loss: 0.5432 - val_acc: 0.7830\n",
            "Epoch 10/10\n",
            "2500/2500 [==============================] - 61s 24ms/step - loss: 0.2759 - acc: 0.8810 - val_loss: 0.5545 - val_acc: 0.7867\n"
          ],
          "name": "stdout"
        }
      ]
    },
    {
      "cell_type": "code",
      "metadata": {
        "id": "h91x4WeTd09Z",
        "colab_type": "code",
        "colab": {
          "base_uri": "https://localhost:8080/",
          "height": 573
        },
        "outputId": "34b2bea9-647b-4f1a-ce96-fb3f984cf54a"
      },
      "source": [
        "# summarize history for accuracy\n",
        "plt.plot(history.history['acc'])\n",
        "plt.plot(history.history['val_acc'])\n",
        "plt.title('model accuracy')\n",
        "plt.ylabel('accuracy')\n",
        "plt.xlabel('epoch')\n",
        "plt.legend(['train', 'validation'], loc='upper left')\n",
        "plt.show()\n",
        "# summarize history for loss\n",
        "plt.plot(history.history['loss'])\n",
        "plt.plot(history.history['val_loss'])\n",
        "plt.title('model loss')\n",
        "plt.ylabel('loss')\n",
        "plt.xlabel('epoch')\n",
        "plt.legend(['train', 'validation'], loc='upper left')\n",
        "plt.show()"
      ],
      "execution_count": null,
      "outputs": [
        {
          "output_type": "display_data",
          "data": {
            "image/png": "[encoded data removed]",
            "text/plain": [
              "<Figure size 432x288 with 1 Axes>"
            ]
          },
          "metadata": {
            "tags": [],
            "needs_background": "light"
          }
        },
        {
          "output_type": "display_data",
          "data": {
            "image/png": "[encoded data removed]",
            "text/plain": [
              "<Figure size 432x288 with 1 Axes>"
            ]
          },
          "metadata": {
            "tags": [],
            "needs_background": "light"
          }
        }
      ]
    },
    {
      "cell_type": "code",
      "metadata": {
        "id": "gHjFMQ1Md28g",
        "colab_type": "code",
        "colab": {
          "base_uri": "https://localhost:8080/",
          "height": 54
        },
        "outputId": "cd33c6ca-4b83-4dbb-cec6-337aea9c8886"
      },
      "source": [
        "model.evaluate(x=x_test, y=y_test, batch_size=None, verbose=1, sample_weight=None, steps=None)"
      ],
      "execution_count": null,
      "outputs": [
        {
          "output_type": "stream",
          "text": [
            "313/313 [==============================] - 3s 10ms/step - loss: 0.5363 - acc: 0.7910\n"
          ],
          "name": "stdout"
        },
        {
          "output_type": "execute_result",
          "data": {
            "text/plain": [
              "[0.5363017916679382, 0.7910000085830688]"
            ]
          },
          "metadata": {
            "tags": []
          },
          "execution_count": 29
        }
      ]
    },
    {
      "cell_type": "code",
      "metadata": {
        "id": "DcE2sP0Rn8f_",
        "colab_type": "code",
        "colab": {}
      },
      "source": [
        "lista_svi = []\n",
        "for review in df_processed.sentences.values:\n",
        "  lista_review = []\n",
        "  for sentence in review.split('.')[:-1]:\n",
        "    lista = []\n",
        "    for word in sentence.split(' '):\n",
        "      if word != '':\n",
        "        lista.append(word) \n",
        "    lista_review.append(lista)\n",
        "  lista_svi.append(lista_review)"
      ],
      "execution_count": null,
      "outputs": []
    },
    {
      "cell_type": "code",
      "metadata": {
        "id": "fMIl-sHpoWBF",
        "colab_type": "code",
        "colab": {
          "base_uri": "https://localhost:8080/",
          "height": 35
        },
        "outputId": "fd34f09f-0fd0-41d2-cff1-536a8280c93e"
      },
      "source": [
        "max = 0\n",
        "for review in lista_svi:\n",
        "  if len(review) > max:\n",
        "    max = len(review)\n",
        "\n",
        "print(max)"
      ],
      "execution_count": null,
      "outputs": [
        {
          "output_type": "stream",
          "text": [
            "148\n"
          ],
          "name": "stdout"
        }
      ]
    },
    {
      "cell_type": "code",
      "metadata": {
        "id": "88R7bX_kqfcV",
        "colab_type": "code",
        "colab": {
          "base_uri": "https://localhost:8080/",
          "height": 54
        },
        "outputId": "49043a65-c73e-492c-9827-ecfcfb5bd7b7"
      },
      "source": [
        "n_sent = 0\n",
        "n_words = 0\n",
        "for i in range(len(lista_svi)):\n",
        "    sent = lista_svi[i]\n",
        "    for satz in sent:\n",
        "        n_words += len(satz)\n",
        "    n_sent += len(sent)\n",
        "\n",
        "print(\"Average number of words in each sentence: \",round(n_words/n_sent))\n",
        "print(\"Average number of sentences in each document: \", round(n_sent/len(df_processed)))"
      ],
      "execution_count": null,
      "outputs": [
        {
          "output_type": "stream",
          "text": [
            "Average number of words in each sentence:  8\n",
            "Average number of sentences in each document:  17\n"
          ],
          "name": "stdout"
        }
      ]
    },
    {
      "cell_type": "code",
      "metadata": {
        "id": "rwVtzg0mumCT",
        "colab_type": "code",
        "colab": {
          "base_uri": "https://localhost:8080/",
          "height": 35
        },
        "outputId": "501d4017-2af3-4760-cd5f-e30bba7f0c6c"
      },
      "source": [
        "predictions = model.predict(x_test) \n",
        "print('First prediction:', predictions[0]) "
      ],
      "execution_count": null,
      "outputs": [
        {
          "output_type": "stream",
          "text": [
            "First prediction: [0.0325886 0.9674114]\n"
          ],
          "name": "stdout"
        }
      ]
    },
    {
      "cell_type": "code",
      "metadata": {
        "id": "KIJBekyCvXG5",
        "colab_type": "code",
        "colab": {}
      },
      "source": [
        "wrong_predictions = []\n",
        "for i in range(len(predictions)):\n",
        "  if (round(predictions[i][0]) == 1.0 and test.is_spoiler.iloc[i] == True) or (round(predictions[i][0]) == 0.0 and test.is_spoiler.iloc[i] == False):\n",
        "    wrong_predictions.append([predictions[i], test.sentences.iloc[i], test.is_spoiler.iloc[i]])"
      ],
      "execution_count": null,
      "outputs": []
    },
    {
      "cell_type": "markdown",
      "metadata": {
        "id": "A4tDUbkDxLUb",
        "colab_type": "text"
      },
      "source": [
        "Spominju se reči koje se često vezuju za spojlere, poput reči `death`, koja u ovom slučaju ne predstavlja spojler već autor samo opisuje stanje u datom istorijskom periodu"
      ]
    },
    {
      "cell_type": "code",
      "metadata": {
        "id": "yKCB8eg7w0NN",
        "colab_type": "code",
        "colab": {
          "base_uri": "https://localhost:8080/",
          "height": 92
        },
        "outputId": "0e5e0ae7-2a5f-449d-8ba2-f5f353412108"
      },
      "source": [
        "wrong_predictions[1]"
      ],
      "execution_count": null,
      "outputs": [
        {
          "output_type": "execute_result",
          "data": {
            "text/plain": [
              "[array([0.70309854, 0.2969015 ], dtype=float32),\n",
              " 'weird book . definitely going polarizing . holy shit book fantastic necessarily book enjoy typical sense definitely stay . book along dangerous girl got interested suspense genre . year since read book still haunt . read book midwinter lake tahoe yet atmosphere book drew well totally lost . dare obsession . dedication brutal world . power play hatred . drive competition boyfriend dating play competition teen world . twisted kind love . somehow incorporates brilliant suspenseful novel . obligatory section megan abbott mood tonal shift amazing . really really . love mood book love book make feel even know happening . book confusing weird utterly amazing . writing pretty without purple prose great . beth addy complete jerk yet somehow sympathized completely . complex character . even dislikable interest . relationship beth addy messed yet interesting read beth addy explicitly attracted looking back addy almost certainly attracted coach well . ending clear think liked first read . hindsight think ambiguous odd ending worked perfectly . reason book still stand tall memory always . get high recommendation anyone enjoys suspense novel ambiguity . ',\n",
              " True]"
            ]
          },
          "metadata": {
            "tags": []
          },
          "execution_count": 35
        }
      ]
    },
    {
      "cell_type": "markdown",
      "metadata": {
        "id": "rDSkI_2QyNyT",
        "colab_type": "text"
      },
      "source": [
        "Spominje se reč `spoiler`. Autori kritika koje sadrže spojlere gotovo uvek i u samom tekstu navode da njihova kritika sadrži spojlere, pa je moguće da je attention mehanizam upravo toj reči dao veliki značaj, te je zato ova kritika pogrešno klasifikovana. Na to može uputiti i relativno niska verovatnoća koju je model za ovu predikciju dao, koja iznosi svega 64%. Takođe se spominje happy ending, pa je ova greška vezana i za prethodni tip grešaka."
      ]
    },
    {
      "cell_type": "code",
      "metadata": {
        "id": "37-9Gm8pxgSd",
        "colab_type": "code",
        "colab": {
          "base_uri": "https://localhost:8080/",
          "height": 92
        },
        "outputId": "42d33674-6794-4071-90af-7849dce35e2e"
      },
      "source": [
        "wrong_predictions[4]"
      ],
      "execution_count": null,
      "outputs": [
        {
          "output_type": "execute_result",
          "data": {
            "text/plain": [
              "[array([0.41204643, 0.5879535 ], dtype=float32),\n",
              " 'star . thought book good . amazingly good like hoping going good nonetheless . felt like ezra cassidy relation small even though took good chunk book . like subtle way fell love like right face . ending predictable since strongly foreshadowed beginning book read enough contemporary book see coming . ending affect much typical type ending would going post spoiler sorry . high hope book . meet expectation thankful disappointment . ',\n",
              " False]"
            ]
          },
          "metadata": {
            "tags": []
          },
          "execution_count": 36
        }
      ]
    },
    {
      "cell_type": "markdown",
      "metadata": {
        "id": "3sQk7FNVzAOJ",
        "colab_type": "text"
      },
      "source": [
        "Autor u tekstu kritike često navodi reči `end` i `ending`. Iako je autor samo iskazivao svoja osećanja o završetku knjige, bez odavanja raspleta, model je ovaj komentar pogrešno detektovao kao spojler. Na grešaka ovog tipa jasno se vidi koliko je pojam spojlera teško definisati i ograničiti, pošto bi neki korisnici sigurno ovaj tip komentara smatrali spojlerom, zbog toga što se često na osnovu nečijih osećanja može pretpostaviti rasplet dela, posbno kod knjiga koje izlaze u nastavcima, pa su korisnici već upoznati sa likovima i zapletima."
      ]
    },
    {
      "cell_type": "code",
      "metadata": {
        "id": "PCSV_Eu9y0oI",
        "colab_type": "code",
        "colab": {
          "base_uri": "https://localhost:8080/",
          "height": 92
        },
        "outputId": "40768ac6-1f6f-4a13-efe7-6886261fbb19"
      },
      "source": [
        "wrong_predictions[5]"
      ],
      "execution_count": null,
      "outputs": [
        {
          "output_type": "execute_result",
          "data": {
            "text/plain": [
              "[array([0.00160288, 0.99839705], dtype=float32),\n",
              " 'star . like one much honest . thought cliff hanger end good whole double triple agent government conspiracy thing getting bit old . see may frame mind currently . maybe volume . ',\n",
              " False]"
            ]
          },
          "metadata": {
            "tags": []
          },
          "execution_count": 37
        }
      ]
    }
  ]
}
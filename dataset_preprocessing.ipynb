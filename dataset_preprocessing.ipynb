{
  "nbformat": 4,
  "nbformat_minor": 0,
  "metadata": {
    "colab": {
      "name": "dataset_preprocessing.ipynb",
      "provenance": [],
      "collapsed_sections": [],
      "mount_file_id": "1f8mrFxman9Y8-0FQ05wcU8x-Xw33OYd4",
      "authorship_tag": "ABX9TyOYRWYXit73rzPoq3xs+RRl",
      "include_colab_link": true
    },
    "kernelspec": {
      "name": "python3",
      "display_name": "Python 3"
    }
  },
  "cells": [
    {
      "cell_type": "markdown",
      "metadata": {
        "id": "view-in-github",
        "colab_type": "text"
      },
      "source": [
        "<a href=\"https://colab.research.google.com/github/vukovic-marko/projekat-nm/blob/master/dataset_preprocessing.ipynb\" target=\"_parent\"><img src=\"https://colab.research.google.com/assets/colab-badge.svg\" alt=\"Open In Colab\"/></a>"
      ]
    },
    {
      "cell_type": "code",
      "metadata": {
        "id": "ZEuEYS3Mp-xE",
        "colab_type": "code",
        "colab": {}
      },
      "source": [
        "import pandas as pd\n",
        "import numpy as np\n",
        "import gc"
      ],
      "execution_count": 1,
      "outputs": []
    },
    {
      "cell_type": "code",
      "metadata": {
        "id": "s7YeoxhhqsCr",
        "colab_type": "code",
        "colab": {}
      },
      "source": [
        "data = pd.read_json('/content/drive/My Drive/goodreads_reviews_spoiler.json.gz', lines=True, compression='gzip')"
      ],
      "execution_count": 2,
      "outputs": []
    },
    {
      "cell_type": "code",
      "metadata": {
        "id": "8FtWH51psQc8",
        "colab_type": "code",
        "colab": {
          "base_uri": "https://localhost:8080/",
          "height": 206
        },
        "outputId": "c3e16587-88fd-4ba0-b542-bcb5d86ea182"
      },
      "source": [
        "data.head()"
      ],
      "execution_count": 3,
      "outputs": [
        {
          "output_type": "execute_result",
          "data": {
            "text/html": [
              "<div>\n",
              "<style scoped>\n",
              "    .dataframe tbody tr th:only-of-type {\n",
              "        vertical-align: middle;\n",
              "    }\n",
              "\n",
              "    .dataframe tbody tr th {\n",
              "        vertical-align: top;\n",
              "    }\n",
              "\n",
              "    .dataframe thead th {\n",
              "        text-align: right;\n",
              "    }\n",
              "</style>\n",
              "<table border=\"1\" class=\"dataframe\">\n",
              "  <thead>\n",
              "    <tr style=\"text-align: right;\">\n",
              "      <th></th>\n",
              "      <th>user_id</th>\n",
              "      <th>timestamp</th>\n",
              "      <th>review_sentences</th>\n",
              "      <th>rating</th>\n",
              "      <th>has_spoiler</th>\n",
              "      <th>book_id</th>\n",
              "      <th>review_id</th>\n",
              "    </tr>\n",
              "  </thead>\n",
              "  <tbody>\n",
              "    <tr>\n",
              "      <th>0</th>\n",
              "      <td>8842281e1d1347389f2ab93d60773d4d</td>\n",
              "      <td>2017-08-30</td>\n",
              "      <td>[[0, This is a special book.], [0, It started ...</td>\n",
              "      <td>5</td>\n",
              "      <td>True</td>\n",
              "      <td>18245960</td>\n",
              "      <td>dfdbb7b0eb5a7e4c26d59a937e2e5feb</td>\n",
              "    </tr>\n",
              "    <tr>\n",
              "      <th>1</th>\n",
              "      <td>8842281e1d1347389f2ab93d60773d4d</td>\n",
              "      <td>2017-03-22</td>\n",
              "      <td>[[0, Recommended by Don Katz.], [0, Avail for ...</td>\n",
              "      <td>3</td>\n",
              "      <td>False</td>\n",
              "      <td>16981</td>\n",
              "      <td>a5d2c3628987712d0e05c4f90798eb67</td>\n",
              "    </tr>\n",
              "    <tr>\n",
              "      <th>2</th>\n",
              "      <td>8842281e1d1347389f2ab93d60773d4d</td>\n",
              "      <td>2017-03-20</td>\n",
              "      <td>[[0, A fun, fast paced science fiction thrille...</td>\n",
              "      <td>3</td>\n",
              "      <td>True</td>\n",
              "      <td>28684704</td>\n",
              "      <td>2ede853b14dc4583f96cf5d120af636f</td>\n",
              "    </tr>\n",
              "    <tr>\n",
              "      <th>3</th>\n",
              "      <td>8842281e1d1347389f2ab93d60773d4d</td>\n",
              "      <td>2016-11-09</td>\n",
              "      <td>[[0, Recommended reading to understand what is...</td>\n",
              "      <td>0</td>\n",
              "      <td>False</td>\n",
              "      <td>27161156</td>\n",
              "      <td>ced5675e55cd9d38a524743f5c40996e</td>\n",
              "    </tr>\n",
              "    <tr>\n",
              "      <th>4</th>\n",
              "      <td>8842281e1d1347389f2ab93d60773d4d</td>\n",
              "      <td>2016-04-25</td>\n",
              "      <td>[[0, I really enjoyed this book, and there is ...</td>\n",
              "      <td>4</td>\n",
              "      <td>True</td>\n",
              "      <td>25884323</td>\n",
              "      <td>332732725863131279a8e345b63ac33e</td>\n",
              "    </tr>\n",
              "  </tbody>\n",
              "</table>\n",
              "</div>"
            ],
            "text/plain": [
              "                            user_id  ...                         review_id\n",
              "0  8842281e1d1347389f2ab93d60773d4d  ...  dfdbb7b0eb5a7e4c26d59a937e2e5feb\n",
              "1  8842281e1d1347389f2ab93d60773d4d  ...  a5d2c3628987712d0e05c4f90798eb67\n",
              "2  8842281e1d1347389f2ab93d60773d4d  ...  2ede853b14dc4583f96cf5d120af636f\n",
              "3  8842281e1d1347389f2ab93d60773d4d  ...  ced5675e55cd9d38a524743f5c40996e\n",
              "4  8842281e1d1347389f2ab93d60773d4d  ...  332732725863131279a8e345b63ac33e\n",
              "\n",
              "[5 rows x 7 columns]"
            ]
          },
          "metadata": {
            "tags": []
          },
          "execution_count": 3
        }
      ]
    },
    {
      "cell_type": "code",
      "metadata": {
        "id": "4lZX-5A5sZDL",
        "colab_type": "code",
        "colab": {
          "base_uri": "https://localhost:8080/",
          "height": 109
        },
        "outputId": "963bb613-98fd-48f8-b368-4b7cef45a6c9"
      },
      "source": [
        "data['has_spoiler'].describe()"
      ],
      "execution_count": 4,
      "outputs": [
        {
          "output_type": "execute_result",
          "data": {
            "text/plain": [
              "count     1378033\n",
              "unique          2\n",
              "top         False\n",
              "freq      1288406\n",
              "Name: has_spoiler, dtype: object"
            ]
          },
          "metadata": {
            "tags": []
          },
          "execution_count": 4
        }
      ]
    },
    {
      "cell_type": "code",
      "metadata": {
        "id": "HLCbaGxss-nd",
        "colab_type": "code",
        "colab": {
          "base_uri": "https://localhost:8080/",
          "height": 35
        },
        "outputId": "857302ed-5347-44cd-efe7-ad6b66a146af"
      },
      "source": [
        "1378033-1288406"
      ],
      "execution_count": 5,
      "outputs": [
        {
          "output_type": "execute_result",
          "data": {
            "text/plain": [
              "89627"
            ]
          },
          "metadata": {
            "tags": []
          },
          "execution_count": 5
        }
      ]
    },
    {
      "cell_type": "code",
      "metadata": {
        "id": "18zNDvuBtaoq",
        "colab_type": "code",
        "colab": {
          "base_uri": "https://localhost:8080/",
          "height": 35
        },
        "outputId": "bb1f0b11-e20f-449c-ab92-01aa83221f7c"
      },
      "source": [
        "89627/1378033"
      ],
      "execution_count": 6,
      "outputs": [
        {
          "output_type": "execute_result",
          "data": {
            "text/plain": [
              "0.06503980673902585"
            ]
          },
          "metadata": {
            "tags": []
          },
          "execution_count": 6
        }
      ]
    },
    {
      "cell_type": "code",
      "metadata": {
        "id": "-zfK71jetqws",
        "colab_type": "code",
        "colab": {}
      },
      "source": [
        "grouped = data.groupby('has_spoiler')\n",
        "grouped = grouped.apply(lambda x: x.sample(n=50000, replace=True))"
      ],
      "execution_count": 7,
      "outputs": []
    },
    {
      "cell_type": "code",
      "metadata": {
        "id": "VOKLtH9nwODB",
        "colab_type": "code",
        "colab": {}
      },
      "source": [
        "grouped = grouped.reset_index(drop=True)"
      ],
      "execution_count": 8,
      "outputs": []
    },
    {
      "cell_type": "code",
      "metadata": {
        "id": "m_I3lKJpxu9T",
        "colab_type": "code",
        "colab": {
          "base_uri": "https://localhost:8080/",
          "height": 441
        },
        "outputId": "9c53382a-13ea-4de8-ff7a-bb9ceff693e2"
      },
      "source": [
        "grouped"
      ],
      "execution_count": 9,
      "outputs": [
        {
          "output_type": "execute_result",
          "data": {
            "text/html": [
              "<div>\n",
              "<style scoped>\n",
              "    .dataframe tbody tr th:only-of-type {\n",
              "        vertical-align: middle;\n",
              "    }\n",
              "\n",
              "    .dataframe tbody tr th {\n",
              "        vertical-align: top;\n",
              "    }\n",
              "\n",
              "    .dataframe thead th {\n",
              "        text-align: right;\n",
              "    }\n",
              "</style>\n",
              "<table border=\"1\" class=\"dataframe\">\n",
              "  <thead>\n",
              "    <tr style=\"text-align: right;\">\n",
              "      <th></th>\n",
              "      <th>user_id</th>\n",
              "      <th>timestamp</th>\n",
              "      <th>review_sentences</th>\n",
              "      <th>rating</th>\n",
              "      <th>has_spoiler</th>\n",
              "      <th>book_id</th>\n",
              "      <th>review_id</th>\n",
              "    </tr>\n",
              "  </thead>\n",
              "  <tbody>\n",
              "    <tr>\n",
              "      <th>0</th>\n",
              "      <td>087f910db26d3e0bd5cee5480b051b21</td>\n",
              "      <td>2015-01-24</td>\n",
              "      <td>[[0, Addison Coleman always knows the right ch...</td>\n",
              "      <td>5</td>\n",
              "      <td>False</td>\n",
              "      <td>11988046</td>\n",
              "      <td>8f502e9b393cb02a41ecb51a45a0f6f6</td>\n",
              "    </tr>\n",
              "    <tr>\n",
              "      <th>1</th>\n",
              "      <td>2c55431540a1d77217734bf959dc6291</td>\n",
              "      <td>2015-06-26</td>\n",
              "      <td>[[0, Except for some typical YA-ness, this boo...</td>\n",
              "      <td>4</td>\n",
              "      <td>False</td>\n",
              "      <td>19695718</td>\n",
              "      <td>3df586d4f96275b7e4c6f17444d79bcd</td>\n",
              "    </tr>\n",
              "    <tr>\n",
              "      <th>2</th>\n",
              "      <td>bf0107e8f7219d77d86341d817231cfc</td>\n",
              "      <td>2012-08-07</td>\n",
              "      <td>[[0, FAST read.], [0, Finished it in less than...</td>\n",
              "      <td>5</td>\n",
              "      <td>False</td>\n",
              "      <td>3636</td>\n",
              "      <td>530775191174fd251c4a88c1e7d05827</td>\n",
              "    </tr>\n",
              "    <tr>\n",
              "      <th>3</th>\n",
              "      <td>b68a14ad3bc75407adc8c8ffde2ac8d6</td>\n",
              "      <td>2017-04-28</td>\n",
              "      <td>[[0, I thought I would love this book.], [0, I...</td>\n",
              "      <td>3</td>\n",
              "      <td>False</td>\n",
              "      <td>32075854</td>\n",
              "      <td>7478a839aeeab55d82fed4e501b5d4c4</td>\n",
              "    </tr>\n",
              "    <tr>\n",
              "      <th>4</th>\n",
              "      <td>5f3c84b201c0ff06d486977d5b5adcaf</td>\n",
              "      <td>2012-07-16</td>\n",
              "      <td>[[0, I liked it.There where a lot of predictab...</td>\n",
              "      <td>4</td>\n",
              "      <td>False</td>\n",
              "      <td>12686642</td>\n",
              "      <td>803b719d03428b96cc130468756fb1d9</td>\n",
              "    </tr>\n",
              "    <tr>\n",
              "      <th>...</th>\n",
              "      <td>...</td>\n",
              "      <td>...</td>\n",
              "      <td>...</td>\n",
              "      <td>...</td>\n",
              "      <td>...</td>\n",
              "      <td>...</td>\n",
              "      <td>...</td>\n",
              "    </tr>\n",
              "    <tr>\n",
              "      <th>99995</th>\n",
              "      <td>3d9312557aaab21a346cb0aafe35a202</td>\n",
              "      <td>2011-12-26</td>\n",
              "      <td>[[0, Sentence: I sentence Elizabeth Scott to a...</td>\n",
              "      <td>2</td>\n",
              "      <td>True</td>\n",
              "      <td>9742401</td>\n",
              "      <td>448db691fd81a6f1700ad2b6eeaf03df</td>\n",
              "    </tr>\n",
              "    <tr>\n",
              "      <th>99996</th>\n",
              "      <td>874ac23e8e42584b63a2ecff1244d5b1</td>\n",
              "      <td>2014-04-23</td>\n",
              "      <td>[[0, It is not so unusual that a novel spannin...</td>\n",
              "      <td>4</td>\n",
              "      <td>True</td>\n",
              "      <td>6280118</td>\n",
              "      <td>f5c787005382ca447fa5f8ad248a0816</td>\n",
              "    </tr>\n",
              "    <tr>\n",
              "      <th>99997</th>\n",
              "      <td>ee5b02d2e644bb2e1250293f8e4275aa</td>\n",
              "      <td>2016-10-04</td>\n",
              "      <td>[[0, I really enjoyed this story.], [1, I hate...</td>\n",
              "      <td>4</td>\n",
              "      <td>True</td>\n",
              "      <td>26156987</td>\n",
              "      <td>8e50da17b850d2f71a8db357c77ad3e8</td>\n",
              "    </tr>\n",
              "    <tr>\n",
              "      <th>99998</th>\n",
              "      <td>d338d9fdbf84d31baf6ea1841385461c</td>\n",
              "      <td>2015-01-07</td>\n",
              "      <td>[[0, Okay, please be kind to me, I haven't don...</td>\n",
              "      <td>4</td>\n",
              "      <td>True</td>\n",
              "      <td>22724488</td>\n",
              "      <td>e7633eb0dca4d1dae33fb218ec2d0fbb</td>\n",
              "    </tr>\n",
              "    <tr>\n",
              "      <th>99999</th>\n",
              "      <td>a450572e863a15754d12c25c6610955f</td>\n",
              "      <td>2015-10-02</td>\n",
              "      <td>[[0, Okay, so I'm not rating this one, because...</td>\n",
              "      <td>0</td>\n",
              "      <td>True</td>\n",
              "      <td>18304322</td>\n",
              "      <td>4cb0006c57c5ac388930b71f4f4599cd</td>\n",
              "    </tr>\n",
              "  </tbody>\n",
              "</table>\n",
              "<p>100000 rows × 7 columns</p>\n",
              "</div>"
            ],
            "text/plain": [
              "                                user_id  ...                         review_id\n",
              "0      087f910db26d3e0bd5cee5480b051b21  ...  8f502e9b393cb02a41ecb51a45a0f6f6\n",
              "1      2c55431540a1d77217734bf959dc6291  ...  3df586d4f96275b7e4c6f17444d79bcd\n",
              "2      bf0107e8f7219d77d86341d817231cfc  ...  530775191174fd251c4a88c1e7d05827\n",
              "3      b68a14ad3bc75407adc8c8ffde2ac8d6  ...  7478a839aeeab55d82fed4e501b5d4c4\n",
              "4      5f3c84b201c0ff06d486977d5b5adcaf  ...  803b719d03428b96cc130468756fb1d9\n",
              "...                                 ...  ...                               ...\n",
              "99995  3d9312557aaab21a346cb0aafe35a202  ...  448db691fd81a6f1700ad2b6eeaf03df\n",
              "99996  874ac23e8e42584b63a2ecff1244d5b1  ...  f5c787005382ca447fa5f8ad248a0816\n",
              "99997  ee5b02d2e644bb2e1250293f8e4275aa  ...  8e50da17b850d2f71a8db357c77ad3e8\n",
              "99998  d338d9fdbf84d31baf6ea1841385461c  ...  e7633eb0dca4d1dae33fb218ec2d0fbb\n",
              "99999  a450572e863a15754d12c25c6610955f  ...  4cb0006c57c5ac388930b71f4f4599cd\n",
              "\n",
              "[100000 rows x 7 columns]"
            ]
          },
          "metadata": {
            "tags": []
          },
          "execution_count": 9
        }
      ]
    },
    {
      "cell_type": "code",
      "metadata": {
        "id": "6ohWcmd9xy0F",
        "colab_type": "code",
        "colab": {}
      },
      "source": [
        "books = grouped.groupby('book_id')['review_id']\n",
        "books.nunique()\n",
        "# books.nunique().to_csv('/content/drive/My Drive/grouped_distribution.csv')"
      ],
      "execution_count": 10,
      "outputs": []
    },
    {
      "cell_type": "code",
      "metadata": {
        "id": "JECBhq74y7I0",
        "colab_type": "code",
        "colab": {}
      },
      "source": [
        "books_full = data.groupby('book_id')['review_id']\n",
        "# books_full.nunique().to_csv('/content/drive/My Drive/full_distribution.csv')"
      ],
      "execution_count": 12,
      "outputs": []
    },
    {
      "cell_type": "code",
      "metadata": {
        "id": "lf1PkfML_TRw",
        "colab_type": "code",
        "colab": {}
      },
      "source": [
        "x_train = []\n",
        "y_train = []\n",
        "z_train = []\n",
        "\n",
        "for review in grouped['review_sentences']:\n",
        "  x = []\n",
        "  y = []\n",
        "  for review_sentence in review:\n",
        "    is_spoiler = review_sentence[0]\n",
        "    sentence = review_sentence[1]\n",
        "    x.append(sentence)\n",
        "    y.append(is_spoiler)\n",
        "  if 1 in y:\n",
        "    z_train.append(True)\n",
        "  else:\n",
        "    z_train.append(False)\n",
        "  \n",
        "  x_train.append(' '.join(x))\n",
        "  y_train.append(np.array(y))"
      ],
      "execution_count": 13,
      "outputs": []
    },
    {
      "cell_type": "code",
      "metadata": {
        "id": "y0Iz_Tc0-3z7",
        "colab_type": "code",
        "colab": {}
      },
      "source": [
        "df = pd.DataFrame()\n",
        "df['sentences'] = x_train\n",
        "df['spoilers'] = np.array(y_train)\n",
        "df['is_spoiler'] = np.array(z_train)"
      ],
      "execution_count": 14,
      "outputs": []
    },
    {
      "cell_type": "code",
      "metadata": {
        "id": "yEZzyodxLSIq",
        "colab_type": "code",
        "colab": {
          "base_uri": "https://localhost:8080/",
          "height": 424
        },
        "outputId": "a5a0ba26-80f9-4794-db75-80bf82aa0a9e"
      },
      "source": [
        "df"
      ],
      "execution_count": 15,
      "outputs": [
        {
          "output_type": "execute_result",
          "data": {
            "text/html": [
              "<div>\n",
              "<style scoped>\n",
              "    .dataframe tbody tr th:only-of-type {\n",
              "        vertical-align: middle;\n",
              "    }\n",
              "\n",
              "    .dataframe tbody tr th {\n",
              "        vertical-align: top;\n",
              "    }\n",
              "\n",
              "    .dataframe thead th {\n",
              "        text-align: right;\n",
              "    }\n",
              "</style>\n",
              "<table border=\"1\" class=\"dataframe\">\n",
              "  <thead>\n",
              "    <tr style=\"text-align: right;\">\n",
              "      <th></th>\n",
              "      <th>sentences</th>\n",
              "      <th>spoilers</th>\n",
              "      <th>is_spoiler</th>\n",
              "    </tr>\n",
              "  </thead>\n",
              "  <tbody>\n",
              "    <tr>\n",
              "      <th>0</th>\n",
              "      <td>Addison Coleman always knows the right choice ...</td>\n",
              "      <td>[0, 0, 0, 0, 0, 0, 0, 0, 0, 0, 0, 0, 0, 0, 0, ...</td>\n",
              "      <td>False</td>\n",
              "    </tr>\n",
              "    <tr>\n",
              "      <th>1</th>\n",
              "      <td>Except for some typical YA-ness, this book is ...</td>\n",
              "      <td>[0, 0, 0, 0, 0, 0, 0, 0, 0, 0, 0, 0, 0, 0, 0, ...</td>\n",
              "      <td>False</td>\n",
              "    </tr>\n",
              "    <tr>\n",
              "      <th>2</th>\n",
              "      <td>FAST read. Finished it in less than a day. It'...</td>\n",
              "      <td>[0, 0, 0, 0, 0, 0]</td>\n",
              "      <td>False</td>\n",
              "    </tr>\n",
              "    <tr>\n",
              "      <th>3</th>\n",
              "      <td>I thought I would love this book. I wanted to....</td>\n",
              "      <td>[0, 0, 0, 0, 0, 0, 0, 0, 0, 0, 0, 0, 0, 0, 0, ...</td>\n",
              "      <td>False</td>\n",
              "    </tr>\n",
              "    <tr>\n",
              "      <th>4</th>\n",
              "      <td>I liked it.There where a lot of predictable th...</td>\n",
              "      <td>[0, 0]</td>\n",
              "      <td>False</td>\n",
              "    </tr>\n",
              "    <tr>\n",
              "      <th>...</th>\n",
              "      <td>...</td>\n",
              "      <td>...</td>\n",
              "      <td>...</td>\n",
              "    </tr>\n",
              "    <tr>\n",
              "      <th>99995</th>\n",
              "      <td>Sentence: I sentence Elizabeth Scott to anothe...</td>\n",
              "      <td>[0, 0, 0, 0, 0, 0, 0, 0, 0, 0, 1, 1, 1, 1, 1, ...</td>\n",
              "      <td>True</td>\n",
              "    </tr>\n",
              "    <tr>\n",
              "      <th>99996</th>\n",
              "      <td>It is not so unusual that a novel spanning 20 ...</td>\n",
              "      <td>[0, 0, 0, 0, 0, 0, 0, 0, 0, 0, 0, 0, 1, 1, 1, ...</td>\n",
              "      <td>True</td>\n",
              "    </tr>\n",
              "    <tr>\n",
              "      <th>99997</th>\n",
              "      <td>I really enjoyed this story. I hate to only gi...</td>\n",
              "      <td>[0, 1]</td>\n",
              "      <td>True</td>\n",
              "    </tr>\n",
              "    <tr>\n",
              "      <th>99998</th>\n",
              "      <td>Okay, please be kind to me, I haven't done too...</td>\n",
              "      <td>[0, 0, 0, 0, 0, 0, 0, 0, 0, 0, 0, 1, 1, 1, 1, ...</td>\n",
              "      <td>True</td>\n",
              "    </tr>\n",
              "    <tr>\n",
              "      <th>99999</th>\n",
              "      <td>Okay, so I'm not rating this one, because - it...</td>\n",
              "      <td>[0, 0, 0, 0, 0, 0, 0, 0, 0, 0, 0, 0, 0, 0, 0, ...</td>\n",
              "      <td>True</td>\n",
              "    </tr>\n",
              "  </tbody>\n",
              "</table>\n",
              "<p>100000 rows × 3 columns</p>\n",
              "</div>"
            ],
            "text/plain": [
              "                                               sentences  ... is_spoiler\n",
              "0      Addison Coleman always knows the right choice ...  ...      False\n",
              "1      Except for some typical YA-ness, this book is ...  ...      False\n",
              "2      FAST read. Finished it in less than a day. It'...  ...      False\n",
              "3      I thought I would love this book. I wanted to....  ...      False\n",
              "4      I liked it.There where a lot of predictable th...  ...      False\n",
              "...                                                  ...  ...        ...\n",
              "99995  Sentence: I sentence Elizabeth Scott to anothe...  ...       True\n",
              "99996  It is not so unusual that a novel spanning 20 ...  ...       True\n",
              "99997  I really enjoyed this story. I hate to only gi...  ...       True\n",
              "99998  Okay, please be kind to me, I haven't done too...  ...       True\n",
              "99999  Okay, so I'm not rating this one, because - it...  ...       True\n",
              "\n",
              "[100000 rows x 3 columns]"
            ]
          },
          "metadata": {
            "tags": []
          },
          "execution_count": 15
        }
      ]
    },
    {
      "cell_type": "code",
      "metadata": {
        "id": "PJvO8IG6_d82",
        "colab_type": "code",
        "colab": {}
      },
      "source": [
        "df.to_pickle('/content/drive/My Drive/df.pkl')"
      ],
      "execution_count": null,
      "outputs": []
    }
  ]
}